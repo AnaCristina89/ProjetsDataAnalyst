{
 "cells": [
  {
   "cell_type": "markdown",
   "metadata": {},
   "source": [
    "<center><h1>Étude de santé publique"
   ]
  },
  {
   "cell_type": "markdown",
   "metadata": {},
   "source": [
    "## Importation de librairies"
   ]
  },
  {
   "cell_type": "code",
   "execution_count": 1,
   "metadata": {},
   "outputs": [],
   "source": [
    "import pandas as pd\n",
    "import numpy as np\n",
    "from pandas import DataFrame\n",
    "import matplotlib.pyplot as plt\n"
   ]
  },
  {
   "cell_type": "markdown",
   "metadata": {},
   "source": [
    "## Lecture de données"
   ]
  },
  {
   "cell_type": "code",
   "execution_count": 2,
   "metadata": {},
   "outputs": [],
   "source": [
    "aide= pd.read_csv('aide_alimentaire.csv', sep=',')\n",
    "population= pd.read_csv('population.csv', sep=',')\n",
    "dispo= pd.read_csv('dispo_alimentaire.csv', sep=',')\n",
    "sous_nutri= pd.read_csv('sous_nutrition.csv', sep=',')"
   ]
  },
  {
   "cell_type": "markdown",
   "metadata": {},
   "source": [
    "## Nettoyage et preparation de données "
   ]
  },
  {
   "cell_type": "markdown",
   "metadata": {},
   "source": [
    "#### Remplacer les NA par 0"
   ]
  },
  {
   "cell_type": "code",
   "execution_count": 3,
   "metadata": {},
   "outputs": [],
   "source": [
    "dispo.fillna(0, inplace = True)"
   ]
  },
  {
   "cell_type": "markdown",
   "metadata": {},
   "source": [
    "#### Supprimer les valeurs du tableau dispo où l'alimentation humaine est negative"
   ]
  },
  {
   "cell_type": "code",
   "execution_count": 4,
   "metadata": {},
   "outputs": [],
   "source": [
    "dispo.drop(dispo[ (dispo['Nourriture'] < 0) | (dispo['Disponibilité intérieure'] <0) ].index, inplace = True )"
   ]
  },
  {
   "cell_type": "code",
   "execution_count": 5,
   "metadata": {},
   "outputs": [],
   "source": [
    "dispo.columns= ['Pays', 'Produit', 'Origine', 'Aliments pour animaux',\n",
    "       'Autres Utilisations', 'Disponibilité alimentaire (Kcal/personne/jour)',\n",
    "       'Disponibilité alimentaire en quantité (kg/personne/an)',\n",
    "       'Disponibilité de matière grasse en quantité (g/personne/jour)',\n",
    "       'Disponibilité de protéines en quantité (g/personne/jour)',\n",
    "       'Disponibilité intérieure', 'Exportations - Quantité',\n",
    "       'Importations - Quantité', 'Nourriture', 'Pertes', 'Production',\n",
    "       'Semences', 'Traitement', 'Variation de stock']"
   ]
  },
  {
   "cell_type": "markdown",
   "metadata": {},
   "source": [
    "#### Convertir le valeur de la population "
   ]
  },
  {
   "cell_type": "code",
   "execution_count": 6,
   "metadata": {},
   "outputs": [],
   "source": [
    "population[\"Valeur\"]= population[\"Valeur\"]*1000"
   ]
  },
  {
   "cell_type": "code",
   "execution_count": 7,
   "metadata": {},
   "outputs": [],
   "source": [
    "population.columns = [\"Pays\", \"Année\", \"Population\"]"
   ]
  },
  {
   "cell_type": "code",
   "execution_count": 8,
   "metadata": {},
   "outputs": [
    {
     "data": {
      "text/html": [
       "<div>\n",
       "<style scoped>\n",
       "    .dataframe tbody tr th:only-of-type {\n",
       "        vertical-align: middle;\n",
       "    }\n",
       "\n",
       "    .dataframe tbody tr th {\n",
       "        vertical-align: top;\n",
       "    }\n",
       "\n",
       "    .dataframe thead th {\n",
       "        text-align: right;\n",
       "    }\n",
       "</style>\n",
       "<table border=\"1\" class=\"dataframe\">\n",
       "  <thead>\n",
       "    <tr style=\"text-align: right;\">\n",
       "      <th></th>\n",
       "      <th>Pays</th>\n",
       "      <th>Année</th>\n",
       "      <th>Population</th>\n",
       "    </tr>\n",
       "  </thead>\n",
       "  <tbody>\n",
       "    <tr>\n",
       "      <th>0</th>\n",
       "      <td>Afghanistan</td>\n",
       "      <td>2013</td>\n",
       "      <td>32269589.0</td>\n",
       "    </tr>\n",
       "    <tr>\n",
       "      <th>1</th>\n",
       "      <td>Afghanistan</td>\n",
       "      <td>2014</td>\n",
       "      <td>33370794.0</td>\n",
       "    </tr>\n",
       "    <tr>\n",
       "      <th>2</th>\n",
       "      <td>Afghanistan</td>\n",
       "      <td>2015</td>\n",
       "      <td>34413603.0</td>\n",
       "    </tr>\n",
       "    <tr>\n",
       "      <th>3</th>\n",
       "      <td>Afghanistan</td>\n",
       "      <td>2016</td>\n",
       "      <td>35383032.0</td>\n",
       "    </tr>\n",
       "    <tr>\n",
       "      <th>4</th>\n",
       "      <td>Afghanistan</td>\n",
       "      <td>2017</td>\n",
       "      <td>36296113.0</td>\n",
       "    </tr>\n",
       "  </tbody>\n",
       "</table>\n",
       "</div>"
      ],
      "text/plain": [
       "          Pays  Année  Population\n",
       "0  Afghanistan   2013  32269589.0\n",
       "1  Afghanistan   2014  33370794.0\n",
       "2  Afghanistan   2015  34413603.0\n",
       "3  Afghanistan   2016  35383032.0\n",
       "4  Afghanistan   2017  36296113.0"
      ]
     },
     "execution_count": 8,
     "metadata": {},
     "output_type": "execute_result"
    }
   ],
   "source": [
    "population.head()"
   ]
  },
  {
   "cell_type": "markdown",
   "metadata": {},
   "source": [
    "#### Supprimer les pays sans les personnes en sous_nutrition du tableau sous_nutrition"
   ]
  },
  {
   "cell_type": "code",
   "execution_count": 9,
   "metadata": {},
   "outputs": [],
   "source": [
    "sous_nutri.dropna(inplace= True)"
   ]
  },
  {
   "cell_type": "markdown",
   "metadata": {},
   "source": [
    "#### Remplacer les années "
   ]
  },
  {
   "cell_type": "code",
   "execution_count": 10,
   "metadata": {},
   "outputs": [],
   "source": [
    "sous_nutri.replace(to_replace=['2012-2014', '2013-2015', '2014-2016', '2015-2017', '2016-2018', '2017-2019'], \n",
    "                       value =[2013, 2014, 2015, 2016, 2017, 2018], inplace=True)"
   ]
  },
  {
   "cell_type": "code",
   "execution_count": 11,
   "metadata": {},
   "outputs": [],
   "source": [
    "sous_nutri.columns = [ \"Pays\", \"Année_sn\", \"Population_sn\"]"
   ]
  },
  {
   "cell_type": "code",
   "execution_count": 12,
   "metadata": {},
   "outputs": [
    {
     "data": {
      "text/html": [
       "<div>\n",
       "<style scoped>\n",
       "    .dataframe tbody tr th:only-of-type {\n",
       "        vertical-align: middle;\n",
       "    }\n",
       "\n",
       "    .dataframe tbody tr th {\n",
       "        vertical-align: top;\n",
       "    }\n",
       "\n",
       "    .dataframe thead th {\n",
       "        text-align: right;\n",
       "    }\n",
       "</style>\n",
       "<table border=\"1\" class=\"dataframe\">\n",
       "  <thead>\n",
       "    <tr style=\"text-align: right;\">\n",
       "      <th></th>\n",
       "      <th>Pays</th>\n",
       "      <th>Année_sn</th>\n",
       "      <th>Population_sn</th>\n",
       "    </tr>\n",
       "  </thead>\n",
       "  <tbody>\n",
       "    <tr>\n",
       "      <th>0</th>\n",
       "      <td>Afghanistan</td>\n",
       "      <td>2013</td>\n",
       "      <td>8.6</td>\n",
       "    </tr>\n",
       "    <tr>\n",
       "      <th>1</th>\n",
       "      <td>Afghanistan</td>\n",
       "      <td>2014</td>\n",
       "      <td>8.8</td>\n",
       "    </tr>\n",
       "    <tr>\n",
       "      <th>2</th>\n",
       "      <td>Afghanistan</td>\n",
       "      <td>2015</td>\n",
       "      <td>8.9</td>\n",
       "    </tr>\n",
       "    <tr>\n",
       "      <th>3</th>\n",
       "      <td>Afghanistan</td>\n",
       "      <td>2016</td>\n",
       "      <td>9.7</td>\n",
       "    </tr>\n",
       "    <tr>\n",
       "      <th>4</th>\n",
       "      <td>Afghanistan</td>\n",
       "      <td>2017</td>\n",
       "      <td>10.5</td>\n",
       "    </tr>\n",
       "  </tbody>\n",
       "</table>\n",
       "</div>"
      ],
      "text/plain": [
       "          Pays  Année_sn Population_sn\n",
       "0  Afghanistan      2013           8.6\n",
       "1  Afghanistan      2014           8.8\n",
       "2  Afghanistan      2015           8.9\n",
       "3  Afghanistan      2016           9.7\n",
       "4  Afghanistan      2017          10.5"
      ]
     },
     "execution_count": 12,
     "metadata": {},
     "output_type": "execute_result"
    }
   ],
   "source": [
    "sous_nutri.head()"
   ]
  },
  {
   "cell_type": "markdown",
   "metadata": {},
   "source": [
    "#### Suprimer les valeurs ambigues "
   ]
  },
  {
   "cell_type": "code",
   "execution_count": 13,
   "metadata": {},
   "outputs": [],
   "source": [
    "idx_pays = sous_nutri[sous_nutri['Population_sn'] =='<0.1'].index \n",
    "sous_nutri.drop(idx_pays, inplace=True)"
   ]
  },
  {
   "cell_type": "markdown",
   "metadata": {},
   "source": [
    "#### Convertir en valeur numérique les valeurs de type 'objet'"
   ]
  },
  {
   "cell_type": "code",
   "execution_count": 14,
   "metadata": {},
   "outputs": [],
   "source": [
    "sous_nutri['Population_sn'] = sous_nutri['Population_sn'].astype(float)"
   ]
  },
  {
   "cell_type": "markdown",
   "metadata": {},
   "source": [
    "#### Convertir le nombre des personnes en sous-nutrition "
   ]
  },
  {
   "cell_type": "code",
   "execution_count": 15,
   "metadata": {},
   "outputs": [],
   "source": [
    "sous_nutri['Population_sn'] = sous_nutri['Population_sn']*1000000"
   ]
  },
  {
   "cell_type": "markdown",
   "metadata": {},
   "source": [
    "## Demandes de Marc"
   ]
  },
  {
   "cell_type": "markdown",
   "metadata": {},
   "source": [
    "### 1. La proportion de personnes en état de sous-nutrition "
   ]
  },
  {
   "cell_type": "code",
   "execution_count": 16,
   "metadata": {},
   "outputs": [
    {
     "name": "stdout",
     "output_type": "stream",
     "text": [
      "Total de la population en 2017:  7548134111.0 \n",
      "\n",
      "Population en sous nutrition en 2017:  535700000.0 \n",
      "\n",
      "Pourcentage de personnes en sous nutrition en 2017: 7.1 %\n"
     ]
    }
   ],
   "source": [
    "#pop_2017= pop_17.pop_en_millions.sum()\n",
    "pop_2017 =  population[population[\"Année\"] == 2017].Population.sum()\n",
    "print(\"Total de la population en 2017: \",pop_2017,\"\\n\")\n",
    "\n",
    "pop_sn_2017 = sous_nutri[sous_nutri[\"Année_sn\"] == 2017].Population_sn.sum()\n",
    "print(\"Population en sous nutrition en 2017: \",pop_sn_2017, \"\\n\")\n",
    "\n",
    "pourc_sn =  round(pop_sn_2017/pop_2017 *100,2)\n",
    "print(\"Pourcentage de personnes en sous nutrition en 2017:\" ,pourc_sn , \"%\")"
   ]
  },
  {
   "cell_type": "code",
   "execution_count": 17,
   "metadata": {},
   "outputs": [
    {
     "data": {
      "image/png": "[encoded data removed]",
      "text/plain": [
       "<Figure size 432x288 with 1 Axes>"
      ]
     },
     "metadata": {},
     "output_type": "display_data"
    }
   ],
   "source": [
    "labels = 'Sous nutrition', ''\n",
    "sizes = [7.1, 92.9]\n",
    "explode = (0.1, 0)  # only \"explode\" the 1rst slice (i.e. 'sous nutrition')\n",
    "\n",
    "fig1, ax1 = plt.subplots()\n",
    "ax1.pie(sizes, explode=explode, labels=labels, autopct='%1.1f%%',\n",
    "        shadow=True, startangle=20)\n",
    "ax1.axis('equal')  # Equal aspect ratio ensures that pie is drawn as a circle.\n",
    "plt.title('Proportion en sous nutrition en 2017')\n",
    "plt.show()"
   ]
  },
  {
   "cell_type": "markdown",
   "metadata": {},
   "source": [
    "### 2. Le nombre théorique de personnes qui pourraient être nourrie"
   ]
  },
  {
   "cell_type": "code",
   "execution_count": 18,
   "metadata": {},
   "outputs": [],
   "source": [
    "dispo_pop = pd.merge(dispo, population[population[\"Année\"] == 2017], how='left', on=\"Pays\")"
   ]
  },
  {
   "cell_type": "code",
   "execution_count": 19,
   "metadata": {},
   "outputs": [
    {
     "name": "stdout",
     "output_type": "stream",
     "text": [
      "Total de Kcal disponibles:  7635904319657565.0 \n",
      "\n",
      "Total de personnes qui pourraient être nourries:  8368114323.0 \n",
      "\n",
      "Proportion : 110.86 %\n"
     ]
    }
   ],
   "source": [
    "dispo_pop[\"total_cal\"] = dispo_pop[\"Disponibilité alimentaire (Kcal/personne/jour)\"] *365* dispo_pop.Population\n",
    "total_calories = dispo_pop[\"total_cal\"].sum()\n",
    "print(\"Total de Kcal disponibles: \", total_calories, \"\\n\")\n",
    "\n",
    "total_per_nourries = round(total_calories/(2500*365),0)\n",
    "print(\"Total de personnes qui pourraient être nourries: \", total_per_nourries, \"\\n\")\n",
    "\n",
    "print(\"Proportion :\", \"{:.2f}\".format(total_per_nourries*100/population.loc[population['Année'] == 2017,\"Population\"].sum()), \"%\")"
   ]
  },
  {
   "cell_type": "code",
   "execution_count": 20,
   "metadata": {},
   "outputs": [
    {
     "data": {
      "image/png": "[encoded data removed]",
      "text/plain": [
       "<Figure size 432x288 with 1 Axes>"
      ]
     },
     "metadata": {
      "needs_background": "light"
     },
     "output_type": "display_data"
    }
   ],
   "source": [
    "labels_nourries = 'Population', 'Personnes qui pourraient être nourries'\n",
    "valeurs = [ pop_2017, total_per_nourries]\n",
    "\n",
    "plt.bar(labels_nourries, valeurs, color='royalblue', alpha=0.7)\n",
    "plt.suptitle('Personnes qui pourraient être nourries en 2017',fontsize=15)\n",
    "plt.ylabel('millions')\n",
    "plt.show()"
   ]
  },
  {
   "cell_type": "markdown",
   "metadata": {},
   "source": [
    "### 3. Idem pour la disponibilité alimentaire des produits végétaux"
   ]
  },
  {
   "cell_type": "code",
   "execution_count": 21,
   "metadata": {},
   "outputs": [
    {
     "name": "stdout",
     "output_type": "stream",
     "text": [
      "Total de kcal de produits végétaux:  6300756229742880.0 \n",
      "\n",
      "Total de personnes qui pourraient être nourries:  6904938334.0 \n",
      "\n",
      "Proportion : 91.48 %\n"
     ]
    }
   ],
   "source": [
    "kcal_vegetaux = dispo_pop[dispo_pop[\"Origine\"]== \"vegetale\"].total_cal.sum()\n",
    "print('Total de kcal de produits végétaux: ', kcal_vegetaux, \"\\n\")\n",
    "\n",
    "total_per_nourries_veg = round(kcal_vegetaux/(2500*365),0)\n",
    "print(\"Total de personnes qui pourraient être nourries: \", total_per_nourries_veg,\"\\n\")\n",
    "\n",
    "print(\"Proportion :\", \"{:.2f}\".format(total_per_nourries_veg*100/population.loc[population['Année'] == 2017,\"Population\"].sum()), \"%\")"
   ]
  },
  {
   "cell_type": "markdown",
   "metadata": {},
   "source": [
    "### 4. L’utilisation de la disponibilité intérieure, en particulier la part qui est attribuée à l’alimentation animale, celle qui est perdue et celle qui est concrètement utilisée pour l'alimentation humaine."
   ]
  },
  {
   "cell_type": "code",
   "execution_count": 22,
   "metadata": {},
   "outputs": [],
   "source": [
    "dispo_inter = dispo[\"Disponibilité intérieure\"].sum()"
   ]
  },
  {
   "cell_type": "code",
   "execution_count": 23,
   "metadata": {},
   "outputs": [
    {
     "name": "stdout",
     "output_type": "stream",
     "text": [
      "Proportion d'Aliments pour animaux:  13.23 %\n",
      "\n",
      "Proportion de Pertes:  4.6 %\n",
      "\n",
      "Proportion pour l'utilisation humaine:  49.48 %\n",
      "\n"
     ]
    }
   ],
   "source": [
    "prop_animal = dispo['Aliments pour animaux'].sum()*100/dispo_inter\n",
    "print(\"Proportion d'Aliments pour animaux: \", round(prop_animal,2) ,\"%\\n\")\n",
    "\n",
    "prop_pertes = dispo[\"Pertes\"].sum()*100/dispo_inter\n",
    "print(\"Proportion de Pertes: \", round(prop_pertes,2) ,\"%\\n\")\n",
    "\n",
    "prop_nourriture = dispo[\"Nourriture\"].sum()*100/dispo_inter\n",
    "print(\"Proportion pour l'utilisation humaine: \", round(prop_nourriture,2) ,\"%\\n\")"
   ]
  },
  {
   "cell_type": "markdown",
   "metadata": {},
   "source": [
    "## Demandes  de Mélanie"
   ]
  },
  {
   "cell_type": "markdown",
   "metadata": {},
   "source": [
    "### 1. Les pays pour lesquels la proportion de personnes sous-alimentées est la plus forte en 2017"
   ]
  },
  {
   "cell_type": "code",
   "execution_count": 24,
   "metadata": {},
   "outputs": [],
   "source": [
    "sous_nutri_pop= pd.merge( sous_nutri[sous_nutri[\"Année_sn\"] == 2017], population[population[\"Année\"] == 2017], how = 'left', on = 'Pays' )"
   ]
  },
  {
   "cell_type": "code",
   "execution_count": 25,
   "metadata": {},
   "outputs": [],
   "source": [
    "sous_nutri_pop[\"pourc_sn\"] = round(sous_nutri_pop[\"Population_sn\"] / sous_nutri_pop[\"Population\"]*100,2)"
   ]
  },
  {
   "cell_type": "code",
   "execution_count": 26,
   "metadata": {},
   "outputs": [
    {
     "data": {
      "text/html": [
       "<div>\n",
       "<style scoped>\n",
       "    .dataframe tbody tr th:only-of-type {\n",
       "        vertical-align: middle;\n",
       "    }\n",
       "\n",
       "    .dataframe tbody tr th {\n",
       "        vertical-align: top;\n",
       "    }\n",
       "\n",
       "    .dataframe thead th {\n",
       "        text-align: right;\n",
       "    }\n",
       "</style>\n",
       "<table border=\"1\" class=\"dataframe\">\n",
       "  <thead>\n",
       "    <tr style=\"text-align: right;\">\n",
       "      <th></th>\n",
       "      <th>Pays</th>\n",
       "      <th>pourc_sn</th>\n",
       "    </tr>\n",
       "  </thead>\n",
       "  <tbody>\n",
       "    <tr>\n",
       "      <th>0</th>\n",
       "      <td>Haïti</td>\n",
       "      <td>48.26</td>\n",
       "    </tr>\n",
       "    <tr>\n",
       "      <th>1</th>\n",
       "      <td>République populaire démocratique de Corée</td>\n",
       "      <td>47.19</td>\n",
       "    </tr>\n",
       "    <tr>\n",
       "      <th>2</th>\n",
       "      <td>Madagascar</td>\n",
       "      <td>41.06</td>\n",
       "    </tr>\n",
       "    <tr>\n",
       "      <th>3</th>\n",
       "      <td>Libéria</td>\n",
       "      <td>38.28</td>\n",
       "    </tr>\n",
       "    <tr>\n",
       "      <th>4</th>\n",
       "      <td>Lesotho</td>\n",
       "      <td>38.25</td>\n",
       "    </tr>\n",
       "    <tr>\n",
       "      <th>5</th>\n",
       "      <td>Tchad</td>\n",
       "      <td>37.96</td>\n",
       "    </tr>\n",
       "    <tr>\n",
       "      <th>6</th>\n",
       "      <td>Rwanda</td>\n",
       "      <td>35.06</td>\n",
       "    </tr>\n",
       "    <tr>\n",
       "      <th>7</th>\n",
       "      <td>Mozambique</td>\n",
       "      <td>32.81</td>\n",
       "    </tr>\n",
       "    <tr>\n",
       "      <th>8</th>\n",
       "      <td>Timor-Leste</td>\n",
       "      <td>32.17</td>\n",
       "    </tr>\n",
       "    <tr>\n",
       "      <th>9</th>\n",
       "      <td>Afghanistan</td>\n",
       "      <td>28.93</td>\n",
       "    </tr>\n",
       "  </tbody>\n",
       "</table>\n",
       "</div>"
      ],
      "text/plain": [
       "                                         Pays  pourc_sn\n",
       "0                                       Haïti     48.26\n",
       "1  République populaire démocratique de Corée     47.19\n",
       "2                                  Madagascar     41.06\n",
       "3                                     Libéria     38.28\n",
       "4                                     Lesotho     38.25\n",
       "5                                       Tchad     37.96\n",
       "6                                      Rwanda     35.06\n",
       "7                                  Mozambique     32.81\n",
       "8                                 Timor-Leste     32.17\n",
       "9                                 Afghanistan     28.93"
      ]
     },
     "execution_count": 26,
     "metadata": {},
     "output_type": "execute_result"
    }
   ],
   "source": [
    "dix_pays_sn = sous_nutri_pop.sort_values(by =['pourc_sn'], ascending= False).head(10)\n",
    "dix_pays_sn.reset_index(drop=True, inplace=True)\n",
    "dix_pays_sn[[\"Pays\",\"pourc_sn\"]]"
   ]
  },
  {
   "cell_type": "code",
   "execution_count": 27,
   "metadata": {},
   "outputs": [
    {
     "name": "stderr",
     "output_type": "stream",
     "text": [
      "<ipython-input-27-452b4a353c42>:16: MatplotlibDeprecationWarning: Unrecognized location 'left center'. Falling back on 'best'; valid locations are\n",
      "\tbest\n",
      "\tupper right\n",
      "\tupper left\n",
      "\tlower left\n",
      "\tlower right\n",
      "\tright\n",
      "\tcenter left\n",
      "\tcenter right\n",
      "\tlower center\n",
      "\tupper center\n",
      "\tcenter\n",
      "This will raise an exception in 3.3.\n",
      "  plt.legend(patches, labels, loc='left center', bbox_to_anchor=(-0.1, 1.),\n"
     ]
    },
    {
     "data": {
      "image/png": "[encoded data removed]",
      "text/plain": [
       "<Figure size 864x576 with 1 Axes>"
      ]
     },
     "metadata": {},
     "output_type": "display_data"
    }
   ],
   "source": [
    "plt.figure(figsize=(12,8))\n",
    "x = dix_pays_sn.Pays\n",
    "y = dix_pays_sn[\"pourc_sn\"]\n",
    "colors = ['darkorange','red','gold','lightskyblue','lightcoral','royalblue', 'pink', 'darkgreen','lemonchiffon','grey','violet','magenta','cyan']\n",
    "porcent = 100.*y/y.sum()\n",
    "\n",
    "patches, texts = plt.pie(y, colors=colors, startangle=90, radius=1.2)\n",
    "labels = ['{0} - {1:1.2f} %'.format(i,j) for i,j in zip(x, porcent)]\n",
    "\n",
    "sort_legend = True\n",
    "if sort_legend:\n",
    "    patches, labels, dummy =  zip(*sorted(zip(patches, labels, y),\n",
    "                                          key=lambda x: x[2],\n",
    "                                          reverse=True))\n",
    "\n",
    "plt.legend(patches, labels, loc='left center', bbox_to_anchor=(-0.1, 1.),\n",
    "           fontsize=12)\n",
    "plt.title(\"Pays pour lesquels la proportion de personnes sous-alimentées est la plus forte en 2017\")\n",
    "plt.show()"
   ]
  },
  {
   "cell_type": "markdown",
   "metadata": {},
   "source": [
    "### 2. Ceux qui ont le plus bénéficié d’aide depuis 2013"
   ]
  },
  {
   "cell_type": "code",
   "execution_count": 28,
   "metadata": {},
   "outputs": [],
   "source": [
    "plus_beneficie = round( aide.groupby( by = ['Pays bénéficiaire'] ).mean(),0)"
   ]
  },
  {
   "cell_type": "code",
   "execution_count": 29,
   "metadata": {},
   "outputs": [],
   "source": [
    "dix_plus_benef = plus_beneficie.sort_values(by =['Valeur'], ascending= False).head(10)"
   ]
  },
  {
   "cell_type": "code",
   "execution_count": 30,
   "metadata": {},
   "outputs": [
    {
     "data": {
      "text/html": [
       "<div>\n",
       "<style scoped>\n",
       "    .dataframe tbody tr th:only-of-type {\n",
       "        vertical-align: middle;\n",
       "    }\n",
       "\n",
       "    .dataframe tbody tr th {\n",
       "        vertical-align: top;\n",
       "    }\n",
       "\n",
       "    .dataframe thead th {\n",
       "        text-align: right;\n",
       "    }\n",
       "</style>\n",
       "<table border=\"1\" class=\"dataframe\">\n",
       "  <thead>\n",
       "    <tr style=\"text-align: right;\">\n",
       "      <th></th>\n",
       "      <th>Pays</th>\n",
       "      <th>Valeur</th>\n",
       "    </tr>\n",
       "  </thead>\n",
       "  <tbody>\n",
       "    <tr>\n",
       "      <th>0</th>\n",
       "      <td>République arabe syrienne</td>\n",
       "      <td>48920.0</td>\n",
       "    </tr>\n",
       "    <tr>\n",
       "      <th>1</th>\n",
       "      <td>Éthiopie</td>\n",
       "      <td>41857.0</td>\n",
       "    </tr>\n",
       "    <tr>\n",
       "      <th>2</th>\n",
       "      <td>Yémen</td>\n",
       "      <td>31750.0</td>\n",
       "    </tr>\n",
       "    <tr>\n",
       "      <th>3</th>\n",
       "      <td>Soudan du Sud</td>\n",
       "      <td>31602.0</td>\n",
       "    </tr>\n",
       "    <tr>\n",
       "      <th>4</th>\n",
       "      <td>Soudan</td>\n",
       "      <td>27908.0</td>\n",
       "    </tr>\n",
       "    <tr>\n",
       "      <th>5</th>\n",
       "      <td>Kenya</td>\n",
       "      <td>20475.0</td>\n",
       "    </tr>\n",
       "    <tr>\n",
       "      <th>6</th>\n",
       "      <td>Bangladesh</td>\n",
       "      <td>13928.0</td>\n",
       "    </tr>\n",
       "    <tr>\n",
       "      <th>7</th>\n",
       "      <td>Pakistan</td>\n",
       "      <td>12162.0</td>\n",
       "    </tr>\n",
       "    <tr>\n",
       "      <th>8</th>\n",
       "      <td>Afghanistan</td>\n",
       "      <td>11591.0</td>\n",
       "    </tr>\n",
       "    <tr>\n",
       "      <th>9</th>\n",
       "      <td>République démocratique du Congo</td>\n",
       "      <td>11540.0</td>\n",
       "    </tr>\n",
       "  </tbody>\n",
       "</table>\n",
       "</div>"
      ],
      "text/plain": [
       "                               Pays   Valeur\n",
       "0         République arabe syrienne  48920.0\n",
       "1                          Éthiopie  41857.0\n",
       "2                             Yémen  31750.0\n",
       "3                     Soudan du Sud  31602.0\n",
       "4                            Soudan  27908.0\n",
       "5                             Kenya  20475.0\n",
       "6                        Bangladesh  13928.0\n",
       "7                          Pakistan  12162.0\n",
       "8                       Afghanistan  11591.0\n",
       "9  République démocratique du Congo  11540.0"
      ]
     },
     "execution_count": 30,
     "metadata": {},
     "output_type": "execute_result"
    }
   ],
   "source": [
    "pays_pb=dix_plus_benef.index\n",
    "res_plus_benef= DataFrame({'Pays': pays_pb,  'Valeur': dix_plus_benef['Valeur'].values})\n",
    "res_plus_benef"
   ]
  },
  {
   "cell_type": "code",
   "execution_count": 31,
   "metadata": {},
   "outputs": [
    {
     "data": {
      "image/png": "[encoded data removed]",
      "text/plain": [
       "<Figure size 864x576 with 1 Axes>"
      ]
     },
     "metadata": {
      "needs_background": "light"
     },
     "output_type": "display_data"
    }
   ],
   "source": [
    "plt.figure(figsize=(12,8))\n",
    "plt.bar(res_plus_benef['Pays'],res_plus_benef['Valeur'],align='center') # A bar chart\n",
    "plt.title('Pays qui ont le plus bénéficié d’aide depuis 2013', fontsize=18)\n",
    "plt.xlabel('Pays',fontsize=16)\n",
    "plt.ylabel('Aide alimentaire en tonnes.', fontsize=12)\n",
    "plt.xticks(rotation=45)\n",
    "plt.show()"
   ]
  },
  {
   "cell_type": "markdown",
   "metadata": {},
   "source": [
    "### 3.1 Pays ayant le plus de disponibilité/habitant"
   ]
  },
  {
   "cell_type": "code",
   "execution_count": 32,
   "metadata": {},
   "outputs": [],
   "source": [
    "dispo_pays = dispo.groupby(by = ['Pays']).sum()"
   ]
  },
  {
   "cell_type": "code",
   "execution_count": 33,
   "metadata": {},
   "outputs": [],
   "source": [
    "pays_plus_dispo = dispo_pays.sort_values(by=['Disponibilité alimentaire (Kcal/personne/jour)'], ascending= False).head(10)"
   ]
  },
  {
   "cell_type": "code",
   "execution_count": 34,
   "metadata": {},
   "outputs": [
    {
     "data": {
      "text/html": [
       "<div>\n",
       "<style scoped>\n",
       "    .dataframe tbody tr th:only-of-type {\n",
       "        vertical-align: middle;\n",
       "    }\n",
       "\n",
       "    .dataframe tbody tr th {\n",
       "        vertical-align: top;\n",
       "    }\n",
       "\n",
       "    .dataframe thead th {\n",
       "        text-align: right;\n",
       "    }\n",
       "</style>\n",
       "<table border=\"1\" class=\"dataframe\">\n",
       "  <thead>\n",
       "    <tr style=\"text-align: right;\">\n",
       "      <th></th>\n",
       "      <th>Pays</th>\n",
       "      <th>Disponibilité alimentaire</th>\n",
       "    </tr>\n",
       "  </thead>\n",
       "  <tbody>\n",
       "    <tr>\n",
       "      <th>0</th>\n",
       "      <td>Autriche</td>\n",
       "      <td>3770.0</td>\n",
       "    </tr>\n",
       "    <tr>\n",
       "      <th>1</th>\n",
       "      <td>Belgique</td>\n",
       "      <td>3737.0</td>\n",
       "    </tr>\n",
       "    <tr>\n",
       "      <th>2</th>\n",
       "      <td>Turquie</td>\n",
       "      <td>3707.0</td>\n",
       "    </tr>\n",
       "    <tr>\n",
       "      <th>3</th>\n",
       "      <td>États-Unis d'Amérique</td>\n",
       "      <td>3682.0</td>\n",
       "    </tr>\n",
       "    <tr>\n",
       "      <th>4</th>\n",
       "      <td>Israël</td>\n",
       "      <td>3593.0</td>\n",
       "    </tr>\n",
       "    <tr>\n",
       "      <th>5</th>\n",
       "      <td>Italie</td>\n",
       "      <td>3578.0</td>\n",
       "    </tr>\n",
       "    <tr>\n",
       "      <th>6</th>\n",
       "      <td>Irlande</td>\n",
       "      <td>3543.0</td>\n",
       "    </tr>\n",
       "    <tr>\n",
       "      <th>7</th>\n",
       "      <td>Luxembourg</td>\n",
       "      <td>3537.0</td>\n",
       "    </tr>\n",
       "    <tr>\n",
       "      <th>8</th>\n",
       "      <td>Égypte</td>\n",
       "      <td>3518.0</td>\n",
       "    </tr>\n",
       "    <tr>\n",
       "      <th>9</th>\n",
       "      <td>Allemagne</td>\n",
       "      <td>3503.0</td>\n",
       "    </tr>\n",
       "  </tbody>\n",
       "</table>\n",
       "</div>"
      ],
      "text/plain": [
       "                    Pays  Disponibilité alimentaire\n",
       "0               Autriche                     3770.0\n",
       "1               Belgique                     3737.0\n",
       "2                Turquie                     3707.0\n",
       "3  États-Unis d'Amérique                     3682.0\n",
       "4                 Israël                     3593.0\n",
       "5                 Italie                     3578.0\n",
       "6                Irlande                     3543.0\n",
       "7             Luxembourg                     3537.0\n",
       "8                 Égypte                     3518.0\n",
       "9              Allemagne                     3503.0"
      ]
     },
     "execution_count": 34,
     "metadata": {},
     "output_type": "execute_result"
    }
   ],
   "source": [
    "pays_pd=pays_plus_dispo.index\n",
    "res_plus_dispo= DataFrame({'Pays': pays_pd,  'Disponibilité alimentaire': pays_plus_dispo['Disponibilité alimentaire (Kcal/personne/jour)'].values})\n",
    "res_plus_dispo"
   ]
  },
  {
   "cell_type": "markdown",
   "metadata": {},
   "source": [
    "### 3.2 Pays ayant le moins de disponibilité/habitant"
   ]
  },
  {
   "cell_type": "code",
   "execution_count": 35,
   "metadata": {},
   "outputs": [],
   "source": [
    "pays_moins_dispo= dispo_pays.sort_values(by= ['Disponibilité alimentaire (Kcal/personne/jour)'], ascending= True).head(10)"
   ]
  },
  {
   "cell_type": "code",
   "execution_count": 36,
   "metadata": {},
   "outputs": [
    {
     "data": {
      "text/html": [
       "<div>\n",
       "<style scoped>\n",
       "    .dataframe tbody tr th:only-of-type {\n",
       "        vertical-align: middle;\n",
       "    }\n",
       "\n",
       "    .dataframe tbody tr th {\n",
       "        vertical-align: top;\n",
       "    }\n",
       "\n",
       "    .dataframe thead th {\n",
       "        text-align: right;\n",
       "    }\n",
       "</style>\n",
       "<table border=\"1\" class=\"dataframe\">\n",
       "  <thead>\n",
       "    <tr style=\"text-align: right;\">\n",
       "      <th></th>\n",
       "      <th>Pays</th>\n",
       "      <th>Disponibilité alimentaire</th>\n",
       "    </tr>\n",
       "  </thead>\n",
       "  <tbody>\n",
       "    <tr>\n",
       "      <th>0</th>\n",
       "      <td>République centrafricaine</td>\n",
       "      <td>1879.0</td>\n",
       "    </tr>\n",
       "    <tr>\n",
       "      <th>1</th>\n",
       "      <td>Zambie</td>\n",
       "      <td>1924.0</td>\n",
       "    </tr>\n",
       "    <tr>\n",
       "      <th>2</th>\n",
       "      <td>Madagascar</td>\n",
       "      <td>2056.0</td>\n",
       "    </tr>\n",
       "    <tr>\n",
       "      <th>3</th>\n",
       "      <td>Afghanistan</td>\n",
       "      <td>2087.0</td>\n",
       "    </tr>\n",
       "    <tr>\n",
       "      <th>4</th>\n",
       "      <td>Haïti</td>\n",
       "      <td>2089.0</td>\n",
       "    </tr>\n",
       "    <tr>\n",
       "      <th>5</th>\n",
       "      <td>République populaire démocratique de Corée</td>\n",
       "      <td>2093.0</td>\n",
       "    </tr>\n",
       "    <tr>\n",
       "      <th>6</th>\n",
       "      <td>Tchad</td>\n",
       "      <td>2109.0</td>\n",
       "    </tr>\n",
       "    <tr>\n",
       "      <th>7</th>\n",
       "      <td>Zimbabwe</td>\n",
       "      <td>2113.0</td>\n",
       "    </tr>\n",
       "    <tr>\n",
       "      <th>8</th>\n",
       "      <td>Ouganda</td>\n",
       "      <td>2126.0</td>\n",
       "    </tr>\n",
       "    <tr>\n",
       "      <th>9</th>\n",
       "      <td>Timor-Leste</td>\n",
       "      <td>2129.0</td>\n",
       "    </tr>\n",
       "  </tbody>\n",
       "</table>\n",
       "</div>"
      ],
      "text/plain": [
       "                                         Pays  Disponibilité alimentaire\n",
       "0                   République centrafricaine                     1879.0\n",
       "1                                      Zambie                     1924.0\n",
       "2                                  Madagascar                     2056.0\n",
       "3                                 Afghanistan                     2087.0\n",
       "4                                       Haïti                     2089.0\n",
       "5  République populaire démocratique de Corée                     2093.0\n",
       "6                                       Tchad                     2109.0\n",
       "7                                    Zimbabwe                     2113.0\n",
       "8                                     Ouganda                     2126.0\n",
       "9                                 Timor-Leste                     2129.0"
      ]
     },
     "execution_count": 36,
     "metadata": {},
     "output_type": "execute_result"
    }
   ],
   "source": [
    "pays_md = pays_moins_dispo.index\n",
    "res_moins_dispo= DataFrame({'Pays': pays_md,  'Disponibilité alimentaire': pays_moins_dispo['Disponibilité alimentaire (Kcal/personne/jour)'].values})\n",
    "res_moins_dispo"
   ]
  },
  {
   "cell_type": "markdown",
   "metadata": {},
   "source": [
    "## Demandes de Julien"
   ]
  },
  {
   "cell_type": "markdown",
   "metadata": {},
   "source": [
    "### 1. L’utilisation des céréales, notamment la répartition entre l’alimentation humaine et l’alimentation pour animaux"
   ]
  },
  {
   "cell_type": "code",
   "execution_count": 37,
   "metadata": {},
   "outputs": [],
   "source": [
    "cereales= ['Blé','Céréales, Autres','Orge','Maïs','Millet','Riz (Eq Blanchi)','Avoine','Soja','Sorgho']"
   ]
  },
  {
   "cell_type": "code",
   "execution_count": 38,
   "metadata": {},
   "outputs": [],
   "source": [
    "dispo_cereales = dispo[dispo[\"Produit\"].isin(cereales)]"
   ]
  },
  {
   "cell_type": "code",
   "execution_count": 39,
   "metadata": {},
   "outputs": [
    {
     "name": "stdout",
     "output_type": "stream",
     "text": [
      "Utilisation de céréales pour l'alimentation humaine:  1034385000.0  tonnes\n",
      "\n",
      "Utilisation de céréales pour animaux:  882843000.0  tonnes\n",
      "\n",
      "Proportion de céréales pour animaux: 85.35  %\n"
     ]
    }
   ],
   "source": [
    "print(\"Utilisation de céréales pour l'alimentation humaine: \",dispo_cereales[\"Nourriture\"].sum()*1000, \" tonnes\\n\")\n",
    "\n",
    "print(\"Utilisation de céréales pour animaux: \",dispo_cereales[\"Aliments pour animaux\"].sum()*1000, \" tonnes\\n\")\n",
    "\n",
    "print(\"Proportion de céréales pour animaux:\", round(dispo_cereales[\"Aliments pour animaux\"].sum()/dispo_cereales[\"Nourriture\"].sum()*100,2), \" %\")"
   ]
  },
  {
   "cell_type": "markdown",
   "metadata": {},
   "source": [
    "### 2. Utilisation du manioc par la Thaïlande aux égards de la proportion de personnes en sous-nutrition"
   ]
  },
  {
   "cell_type": "code",
   "execution_count": 40,
   "metadata": {},
   "outputs": [],
   "source": [
    "dispo_thailand = dispo.loc[( (dispo[\"Pays\"]== \"Thaïlande\") & (dispo[\"Produit\"] == \"Manioc\") )]     "
   ]
  },
  {
   "cell_type": "code",
   "execution_count": 41,
   "metadata": {},
   "outputs": [
    {
     "name": "stdout",
     "output_type": "stream",
     "text": [
      "Pourcentage d'exportation du manioc: 83.41 %\n",
      "\n",
      "Pourcentage en sous nutrition en Thaïlande:  8.96 %\n"
     ]
    }
   ],
   "source": [
    "pourc_manioc_export = dispo_thailand[\"Exportations - Quantité\"].values/dispo_thailand[\"Production\"].values*100\n",
    "print(\"Pourcentage d'exportation du manioc:\", round(pourc_manioc_export[0],2), \"%\\n\")\n",
    "\n",
    "thailand_sn = sous_nutri_pop.loc[(sous_nutri_pop[\"Pays\"] == 'Thaïlande') ]\n",
    "print(\"Pourcentage en sous nutrition en Thaïlande: \",thailand_sn[\"pourc_sn\"].iloc[0], \"%\")\n"
   ]
  }
 ],
 "metadata": {
  "kernelspec": {
   "display_name": "Python 3",
   "language": "python",
   "name": "python3"
  },
  "language_info": {
   "codemirror_mode": {
    "name": "ipython",
    "version": 3
   },
   "file_extension": ".py",
   "mimetype": "text/x-python",
   "name": "python",
   "nbconvert_exporter": "python",
   "pygments_lexer": "ipython3",
   "version": "3.8.3"
  }
 },
 "nbformat": 4,
 "nbformat_minor": 4
}
